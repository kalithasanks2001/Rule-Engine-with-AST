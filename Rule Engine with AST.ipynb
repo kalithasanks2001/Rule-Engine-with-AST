{
 "cells": [
  {
   "cell_type": "markdown",
   "id": "cf860777",
   "metadata": {},
   "source": [
    "#                            Rule Engine With AST"
   ]
  },
  {
   "cell_type": "markdown",
   "id": "02719456",
   "metadata": {},
   "source": [
    "# Step-1: Define the Node class for AST"
   ]
  },
  {
   "cell_type": "code",
   "execution_count": 2,
   "id": "2773934b",
   "metadata": {},
   "outputs": [],
   "source": [
    "class Node:\n",
    "    def __init__(self, node_type, left=None, right=None, value=None):\n",
    "        self.type = node_type  # 'operator' or 'operand'\n",
    "        self.left = left  # left child node\n",
    "        self.right = right  # right child node\n",
    "        self.value = value  # value for operand nodes (conditions)"
   ]
  },
  {
   "cell_type": "markdown",
   "id": "ab323a91",
   "metadata": {},
   "source": [
    "# Step-2: Function to create AST from rule string"
   ]
  },
  {
   "cell_type": "code",
   "execution_count": 3,
   "id": "ed4e9358",
   "metadata": {},
   "outputs": [],
   "source": [
    "def create_rule(rule_string):\n",
    "    # Simulated: Parsing the rule string manually for this example\n",
    "    if \"AND\" in rule_string or \"OR\" in rule_string:\n",
    "        operator = \"AND\" if \"AND\" in rule_string else \"OR\"\n",
    "        left_part, right_part = rule_string.split(f\" {operator} \")\n",
    "        return Node(\"operator\", create_rule(left_part), create_rule(right_part), operator)\n",
    "    else:\n",
    "        # Operand: Handle simple conditions like \"age > 30\" or \"department = 'Sales'\"\n",
    "        return Node(\"operand\", value=rule_string.strip())"
   ]
  },
  {
   "cell_type": "markdown",
   "id": "0e680635",
   "metadata": {},
   "source": [
    "# Step-3: Combine multiple ASTs into one"
   ]
  },
  {
   "cell_type": "code",
   "execution_count": 4,
   "id": "0dba742a",
   "metadata": {},
   "outputs": [],
   "source": [
    "def combine_rules(rules):\n",
    "    if not rules:\n",
    "        return None\n",
    "    combined_rule = create_rule(rules[0])\n",
    "    for rule in rules[1:]:\n",
    "        combined_rule = Node(\"operator\", combined_rule, create_rule(rule), \"AND\")\n",
    "    return combined_rule"
   ]
  },
  {
   "cell_type": "markdown",
   "id": "e11f8f6c",
   "metadata": {},
   "source": [
    "# Step-4: Evaluate the rule against the user's data"
   ]
  },
  {
   "cell_type": "code",
   "execution_count": 5,
   "id": "3dd3aca1",
   "metadata": {},
   "outputs": [],
   "source": [
    "def evaluate_rule(node, data):\n",
    "    if node.type == \"operand\":\n",
    "        condition = node.value.replace(\" \", \"\")\n",
    "        \n",
    "        # Check and handle various comparison operators\n",
    "        if \">\" in condition:\n",
    "            key, value = condition.split(\">\")\n",
    "            return data[key] > int(value)\n",
    "        elif \"<\" in condition:\n",
    "            key, value = condition.split(\"<\")\n",
    "            return data[key] < int(value)\n",
    "        elif \">=\" in condition:\n",
    "            key, value = condition.split(\">=\")\n",
    "            return data[key] >= int(value)\n",
    "        elif \"<=\" in condition:\n",
    "            key, value = condition.split(\"<=\")\n",
    "            return data[key] <= int(value)\n",
    "        elif \"=\" in condition:\n",
    "            key, value = condition.split(\"=\")\n",
    "            return data[key] == value.strip(\"'\")\n",
    "        else:\n",
    "            raise ValueError(\"Invalid condition format\")\n",
    "    \n",
    "    elif node.type == \"operator\":\n",
    "        if node.value == \"AND\":\n",
    "            return evaluate_rule(node.left, data) and evaluate_rule(node.right, data)\n",
    "        elif node.value == \"OR\":\n",
    "            return evaluate_rule(node.left, data) or evaluate_rule(node.right, data)"
   ]
  },
  {
   "cell_type": "markdown",
   "id": "14aabd89",
   "metadata": {},
   "source": [
    "# Step-5: Test the solution with sample data and rules"
   ]
  },
  {
   "cell_type": "code",
   "execution_count": 6,
   "id": "5a7d0e80",
   "metadata": {},
   "outputs": [
    {
     "name": "stdout",
     "output_type": "stream",
     "text": [
      "Data1 matches rule1: True\n",
      "Data2 matches rule2: True\n",
      "Combined rule with Data1: False\n"
     ]
    }
   ],
   "source": [
    "if __name__ == \"__main__\":\n",
    "    # Example rules\n",
    "    rule1 = \"age > 30 AND department = 'Sales'\"\n",
    "    rule2 = \"age < 25 AND department = 'Marketing'\"\n",
    "    \n",
    "    # Create AST for individual rules\n",
    "    ast_rule1 = create_rule(rule1)\n",
    "    ast_rule2 = create_rule(rule2)\n",
    "    \n",
    "    # Combine rules into a single AST\n",
    "    combined_ast = combine_rules([rule1, rule2])\n",
    "    \n",
    "    # Test evaluation with sample data\n",
    "    data1 = {\"age\": 35, \"department\": \"Sales\"}\n",
    "    data2 = {\"age\": 22, \"department\": \"Marketing\"}\n",
    "    \n",
    "    print(\"Data1 matches rule1:\", evaluate_rule(ast_rule1, data1))  # Expected: True\n",
    "    print(\"Data2 matches rule2:\", evaluate_rule(ast_rule2, data2))  # Expected: True\n",
    "    print(\"Combined rule with Data1:\", evaluate_rule(combined_ast, data1))  # Combined evaluation"
   ]
  }
 ],
 "metadata": {
  "kernelspec": {
   "display_name": "Python 3 (ipykernel)",
   "language": "python",
   "name": "python3"
  },
  "language_info": {
   "codemirror_mode": {
    "name": "ipython",
    "version": 3
   },
   "file_extension": ".py",
   "mimetype": "text/x-python",
   "name": "python",
   "nbconvert_exporter": "python",
   "pygments_lexer": "ipython3",
   "version": "3.11.5"
  }
 },
 "nbformat": 4,
 "nbformat_minor": 5
}
